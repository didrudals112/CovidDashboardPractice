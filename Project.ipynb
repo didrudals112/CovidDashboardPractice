{
 "cells": [
  {
   "cell_type": "code",
   "execution_count": 97,
   "id": "c7f8b245-6e16-4a74-a0e5-946bac57972c",
   "metadata": {},
   "outputs": [
    {
     "name": "stdout",
     "output_type": "stream",
     "text": [
      "This graph shows a comparison of the number of new cases with the number of new tests.\n",
      "2020-01-31 00:00:00  to  2023-11-30 00:00:00\n"
     ]
    },
    {
     "data": {
      "application/vnd.jupyter.widget-view+json": {
       "model_id": "db822fe5eb434c2ca7fb4935f3a34f05",
       "version_major": 2,
       "version_minor": 0
      },
      "text/plain": [
       "Button(description='Refresh data', icon='download', style=ButtonStyle(), tooltip='Click to download the data o…"
      ]
     },
     "metadata": {},
     "output_type": "display_data"
    },
    {
     "data": {
      "application/vnd.jupyter.widget-view+json": {
       "model_id": "aba4f43a7d8c48adbc0e2fbb020ff7e4",
       "version_major": 2,
       "version_minor": 0
      },
      "text/plain": [
       "VBox(children=(SelectMultiple(description='Select:', index=(0, 1), options=('cases', 'tests'), rows=2, value=(…"
      ]
     },
     "metadata": {},
     "output_type": "display_data"
    },
    {
     "data": {
      "application/vnd.jupyter.widget-view+json": {
       "model_id": "e20ad553f84d43ab87e48317793d1f6a",
       "version_major": 2,
       "version_minor": 0
      },
      "text/plain": [
       "Output()"
      ]
     },
     "metadata": {},
     "output_type": "display_data"
    }
   ],
   "source": [
    "#Accessing API through SDK\n",
    "from IPython.display import clear_output #Adding interactive control\n",
    "import ipywidgets as wdg #Adding interactive control\n",
    "import pandas as pd\n",
    "import matplotlib.pyplot as plt\n",
    "import json\n",
    "from uk_covid19 import Cov19API #Import API\n",
    "\n",
    "#Filtering the data for England only\n",
    "filters = ['areaType=nation','areaName=England']\n",
    "\n",
    "# Values for the graphs\n",
    "structure = {\"cases\": \"newCasesByPublishDate\",\"tests\": \"newTestsByPublishDate\",\"date\": \"date\"}\n",
    "\n",
    "#Accessing API\n",
    "api = Cov19API(filters=filters, structure=structure)\n",
    "timeseries=api.get_json()\n",
    "\n",
    "#Saving API queries in json file\n",
    "with open(\"timeseries.json\", \"wt\") as OUTF:\n",
    "    json.dump(timeseries, OUTF)\n",
    "\n",
    "\n",
    "#Data Visualisation\n",
    "\n",
    "# enables the embedding of matplotlib output\n",
    "%matplotlib inline\n",
    "# to make figures larger\n",
    "plt.rcParams['figure.dpi'] = 100\n",
    "\n",
    "#Loading data from JSON file\n",
    "with open(\"timeseries.json\", \"rt\") as INFILE:\n",
    "    data=json.load(INFILE)\n",
    "\n",
    "#Wrangling the data\n",
    "#to make x-axis to be date and sort them\n",
    "datalist=data['data']\n",
    "dates=[dict['date'] for dict in datalist ]\n",
    "dates.sort()\n",
    "\n",
    "#Converting date string to pandas datetime object\n",
    "def parse_date(datestr):\n",
    "    return pd.to_datetime(datestr, format=\"%Y-%m-%d\")\n",
    "\n",
    "#to show the start date and end date\n",
    "start_date=parse_date(dates[0])\n",
    "end_date=parse_date(dates[-1])\n",
    "print (\"This graph shows a comparison of the number of new cases with the number of new tests.\")\n",
    "print (startdate, ' to ', enddate)\n",
    "\n",
    "#Creating date index\n",
    "index=pd.date_range(start_date, end_date, freq='D')\n",
    "casesdf=pd.DataFrame(index=index, columns=['cases', 'tests'])\n",
    "\n",
    "#Filling values into the DataFrame\n",
    "for entry in datalist:\n",
    "    date=parse_date(entry['date'])\n",
    "    for column in ['cases', 'tests']: #for y-axis\n",
    "        if pd.isna(casesdf.loc[date, column]): \n",
    "            value= float(entry[column]) if entry[column]!=None else 0.0\n",
    "            casesdf.loc[date, column]=value # Graph plotted\n",
    "            \n",
    "# to fill in any remaining missing data\n",
    "casesdf.fillna(0.0, inplace=True)            \n",
    "\n",
    "#Saving data into pickle file\n",
    "casesdf.to_pickle(\"timeseriesdf.pkl\")\n",
    "\n",
    "#Adding Interactive Controls\n",
    "#Updating the data\n",
    "#Adding clickable buttons\n",
    "    \n",
    "def access_api(button):\n",
    "    \n",
    "    #Code for polling API:\n",
    "    filters = ['areaType=nation','areaName=England']\n",
    "    structure = {\"cases\": \"newCasesByPublishDate\",\"tests\": \"newTestsByPublishDate\",\"date\": \"date\"}\n",
    "    api = Cov19API(filters=filters, structure=structure)\n",
    "    timeseries=api.get_json()\n",
    "    \n",
    "    # Saving the fetched data as json\n",
    "    with open(\"timeseries.json\", \"wt\") as OUTF:\n",
    "        json.dump(timeseries, OUTF)\n",
    "        \n",
    "    # Updating the button when its refreshed, the icon is changed to the check and its disabled after completion of the refresh\n",
    "    button.icon=\"check\"\n",
    "    button.disabled=True\n",
    "    \n",
    "# Setting up the button\n",
    "apibutton=wdg.Button(\n",
    "    description='Refresh data',\n",
    "    disabled=False,\n",
    "    button_style='',\n",
    "    tooltip='Click to download the data of a comparison of the number of new cases with the number of tests',\n",
    "    icon='download')\n",
    "\n",
    "# Adding callback function to the button\n",
    "apibutton.on_click(access_api)\n",
    "\n",
    "# Display the button\n",
    "display(apibutton)\n",
    "\n",
    "\n",
    "casesdf=pd.read_pickle(\"timeseriesdf.pkl\") #bring pickle file\n",
    "casecols=wdg.SelectMultiple( # makes use of Callback\n",
    "    options=['cases', 'tests'],\n",
    "    value=['cases', 'tests'], # setting the value of the graph\n",
    "    rows=2, # rows of the selection box\n",
    "    description='Select:', #description next to the selection rows\n",
    "    disabled=False)\n",
    "\n",
    "scale=wdg.RadioButtons(\n",
    "    options=['linear', 'log'], #adding linear and log scales\n",
    "    description='Scale:',\n",
    "    disabled=False)\n",
    "\n",
    "controls=wdg.VBox([casecols, scale]) # the boxes are listed vertically\n",
    "# Make selection to choose the graph scale to be a linear or log\n",
    "def case_graph(gcols, gscale):\n",
    "    if gscale=='linear':\n",
    "        logscale=False # it appears as linear if user clicks linear\n",
    "    else:\n",
    "        logscale=True # otherwise appears as log scale\n",
    "    ncols=len(gcols)\n",
    "    if ncols>0: # positive value\n",
    "        casesdf[list(gcols)].plot(logy=logscale) # make y-axis log scale\n",
    "        plt.show() # upadte the graph\n",
    "    else:\n",
    "        print(\"Click to select data for graph\")\n",
    "        print(\"(CTRL-Click to select more than one category)\")\n",
    "\n",
    "graph=wdg.interactive_output(case_graph, {'gcols': casecols, 'gscale': scale}) # the output graph\n",
    "display(controls, graph)\n"
   ]
  },
  {
   "cell_type": "code",
   "execution_count": null,
   "id": "73db6f19-6c87-4518-9d5f-74f408c2ef8c",
   "metadata": {},
   "outputs": [],
   "source": []
  }
 ],
 "metadata": {
  "kernelspec": {
   "display_name": "Python 3 (ipykernel)",
   "language": "python",
   "name": "python3"
  },
  "language_info": {
   "codemirror_mode": {
    "name": "ipython",
    "version": 3
   },
   "file_extension": ".py",
   "mimetype": "text/x-python",
   "name": "python",
   "nbconvert_exporter": "python",
   "pygments_lexer": "ipython3",
   "version": "3.10.13"
  }
 },
 "nbformat": 4,
 "nbformat_minor": 5
}
